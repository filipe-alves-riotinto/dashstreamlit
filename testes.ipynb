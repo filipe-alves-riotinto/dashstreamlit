{
 "cells": [
  {
   "cell_type": "code",
   "execution_count": 1,
   "id": "94c41b34",
   "metadata": {},
   "outputs": [],
   "source": [
    "import pandas as pd"
   ]
  },
  {
   "cell_type": "code",
   "execution_count": 8,
   "id": "e28f6cc8",
   "metadata": {},
   "outputs": [],
   "source": [
    "df_valor = pd.read_parquet('/home/filipe/scripts/psdb-projetos/dashStreamlit/datasets/2022/contas2022.parquet')\n",
    "df_valor = df_valor[['id', 'totalPartidos']]\n",
    "df_valor['totalPartidos'] = df_valor['totalPartidos'].apply(lambda x: f\"{x:,.2f}\".replace(\",\", \"X\").replace(\".\", \",\").replace(\"X\", \".\"))"
   ]
  },
  {
   "cell_type": "code",
   "execution_count": 9,
   "id": "8c76915a",
   "metadata": {},
   "outputs": [
    {
     "data": {
      "text/html": [
       "<div>\n",
       "<style scoped>\n",
       "    .dataframe tbody tr th:only-of-type {\n",
       "        vertical-align: middle;\n",
       "    }\n",
       "\n",
       "    .dataframe tbody tr th {\n",
       "        vertical-align: top;\n",
       "    }\n",
       "\n",
       "    .dataframe thead th {\n",
       "        text-align: right;\n",
       "    }\n",
       "</style>\n",
       "<table border=\"1\" class=\"dataframe\">\n",
       "  <thead>\n",
       "    <tr style=\"text-align: right;\">\n",
       "      <th></th>\n",
       "      <th>id</th>\n",
       "      <th>totalPartidos</th>\n",
       "    </tr>\n",
       "  </thead>\n",
       "  <tbody>\n",
       "    <tr>\n",
       "      <th>0</th>\n",
       "      <td>10001724875</td>\n",
       "      <td>107.957,00</td>\n",
       "    </tr>\n",
       "    <tr>\n",
       "      <th>1</th>\n",
       "      <td>10001613550</td>\n",
       "      <td>1.800.000,00</td>\n",
       "    </tr>\n",
       "    <tr>\n",
       "      <th>2</th>\n",
       "      <td>280001600179</td>\n",
       "      <td>0,00</td>\n",
       "    </tr>\n",
       "    <tr>\n",
       "      <th>3</th>\n",
       "      <td>10001595335</td>\n",
       "      <td>0,00</td>\n",
       "    </tr>\n",
       "    <tr>\n",
       "      <th>4</th>\n",
       "      <td>10001639519</td>\n",
       "      <td>2.980.000,00</td>\n",
       "    </tr>\n",
       "  </tbody>\n",
       "</table>\n",
       "</div>"
      ],
      "text/plain": [
       "             id totalPartidos\n",
       "0   10001724875    107.957,00\n",
       "1   10001613550  1.800.000,00\n",
       "2  280001600179          0,00\n",
       "3   10001595335          0,00\n",
       "4   10001639519  2.980.000,00"
      ]
     },
     "execution_count": 9,
     "metadata": {},
     "output_type": "execute_result"
    }
   ],
   "source": [
    "df_valor.head(5)"
   ]
  },
  {
   "cell_type": "code",
   "execution_count": 2,
   "id": "d7a325d8",
   "metadata": {},
   "outputs": [],
   "source": [
    "df_municipio = pd.read_parquet('/home/filipe/scripts/psdb-projetos/dashStreamlit/datasets/diversos/municipio.parquet')\n",
    "df_municipio = df_municipio[['id','uf', 'nome', 'capital', 'no_regiao_brasil']].rename(columns={'nome' : 'municipio', 'id': 'id_municipio'})\n",
    "df_municipio = df_municipio[~df_municipio['uf'].str.startswith('ZZ')] # Remove linhas com UF ZZ"
   ]
  },
  {
   "cell_type": "code",
   "execution_count": 3,
   "id": "951423f8",
   "metadata": {},
   "outputs": [
    {
     "data": {
      "text/html": [
       "<div>\n",
       "<style scoped>\n",
       "    .dataframe tbody tr th:only-of-type {\n",
       "        vertical-align: middle;\n",
       "    }\n",
       "\n",
       "    .dataframe tbody tr th {\n",
       "        vertical-align: top;\n",
       "    }\n",
       "\n",
       "    .dataframe thead th {\n",
       "        text-align: right;\n",
       "    }\n",
       "</style>\n",
       "<table border=\"1\" class=\"dataframe\">\n",
       "  <thead>\n",
       "    <tr style=\"text-align: right;\">\n",
       "      <th></th>\n",
       "      <th>id_municipio</th>\n",
       "      <th>uf</th>\n",
       "      <th>municipio</th>\n",
       "      <th>capital</th>\n",
       "      <th>no_regiao_brasil</th>\n",
       "    </tr>\n",
       "  </thead>\n",
       "  <tbody>\n",
       "    <tr>\n",
       "      <th>0</th>\n",
       "      <td>1120</td>\n",
       "      <td>AC</td>\n",
       "      <td>ACRELÂNDIA</td>\n",
       "      <td>False</td>\n",
       "      <td>Norte</td>\n",
       "    </tr>\n",
       "    <tr>\n",
       "      <th>1</th>\n",
       "      <td>1570</td>\n",
       "      <td>AC</td>\n",
       "      <td>ASSIS BRASIL</td>\n",
       "      <td>False</td>\n",
       "      <td>Norte</td>\n",
       "    </tr>\n",
       "  </tbody>\n",
       "</table>\n",
       "</div>"
      ],
      "text/plain": [
       "   id_municipio  uf     municipio  capital no_regiao_brasil\n",
       "0          1120  AC    ACRELÂNDIA    False            Norte\n",
       "1          1570  AC  ASSIS BRASIL    False            Norte"
      ]
     },
     "execution_count": 3,
     "metadata": {},
     "output_type": "execute_result"
    }
   ],
   "source": [
    "df_municipio.head(2)"
   ]
  },
  {
   "cell_type": "code",
   "execution_count": 4,
   "id": "ac2baf3e",
   "metadata": {},
   "outputs": [],
   "source": [
    "df_votacao = pd.read_parquet('/home/filipe/scripts/psdb-projetos/dashStreamlit/datasets/2022/votomunicipio2022.parquet')\n",
    "df_votacao = df_votacao[df_votacao['turno'] == 1]\n",
    "df_votacao = df_votacao[['nu_titulo_eleitor', 'municipio', 'votos']].rename(columns={'municipio': 'id_municipio'})"
   ]
  },
  {
   "cell_type": "code",
   "execution_count": 5,
   "id": "94b16889",
   "metadata": {},
   "outputs": [],
   "source": [
    "df_votos_eleicao = pd.merge(\n",
    "    df_votacao, \n",
    "    df_municipio,\n",
    "    on='id_municipio',\n",
    "    how='inner')"
   ]
  },
  {
   "cell_type": "code",
   "execution_count": 18,
   "id": "90b6615d",
   "metadata": {},
   "outputs": [
    {
     "name": "stdout",
     "output_type": "stream",
     "text": [
      "<class 'pandas.core.frame.DataFrame'>\n",
      "RangeIndex: 8367313 entries, 0 to 8367312\n",
      "Data columns (total 7 columns):\n",
      " #   Column             Dtype \n",
      "---  ------             ----- \n",
      " 0   nu_titulo_eleitor  object\n",
      " 1   id_municipio       int64 \n",
      " 2   votos              int64 \n",
      " 3   uf                 object\n",
      " 4   municipio          object\n",
      " 5   capital            bool  \n",
      " 6   no_regiao_brasil   object\n",
      "dtypes: bool(1), int64(2), object(4)\n",
      "memory usage: 391.0+ MB\n"
     ]
    }
   ],
   "source": [
    "df_votos_eleicao.info()"
   ]
  },
  {
   "cell_type": "code",
   "execution_count": 6,
   "id": "fe811d48",
   "metadata": {},
   "outputs": [
    {
     "data": {
      "text/html": [
       "<div>\n",
       "<style scoped>\n",
       "    .dataframe tbody tr th:only-of-type {\n",
       "        vertical-align: middle;\n",
       "    }\n",
       "\n",
       "    .dataframe tbody tr th {\n",
       "        vertical-align: top;\n",
       "    }\n",
       "\n",
       "    .dataframe thead th {\n",
       "        text-align: right;\n",
       "    }\n",
       "</style>\n",
       "<table border=\"1\" class=\"dataframe\">\n",
       "  <thead>\n",
       "    <tr style=\"text-align: right;\">\n",
       "      <th></th>\n",
       "      <th>nu_titulo_eleitor</th>\n",
       "      <th>id_municipio</th>\n",
       "      <th>votos</th>\n",
       "      <th>uf</th>\n",
       "      <th>municipio</th>\n",
       "      <th>capital</th>\n",
       "      <th>no_regiao_brasil</th>\n",
       "    </tr>\n",
       "  </thead>\n",
       "  <tbody>\n",
       "    <tr>\n",
       "      <th>0</th>\n",
       "      <td>000780342402</td>\n",
       "      <td>1007</td>\n",
       "      <td>1670</td>\n",
       "      <td>AC</td>\n",
       "      <td>BUJARI</td>\n",
       "      <td>False</td>\n",
       "      <td>Norte</td>\n",
       "    </tr>\n",
       "    <tr>\n",
       "      <th>1</th>\n",
       "      <td>002324422437</td>\n",
       "      <td>1007</td>\n",
       "      <td>946</td>\n",
       "      <td>AC</td>\n",
       "      <td>BUJARI</td>\n",
       "      <td>False</td>\n",
       "      <td>Norte</td>\n",
       "    </tr>\n",
       "    <tr>\n",
       "      <th>2</th>\n",
       "      <td>000825962445</td>\n",
       "      <td>1007</td>\n",
       "      <td>264</td>\n",
       "      <td>AC</td>\n",
       "      <td>BUJARI</td>\n",
       "      <td>False</td>\n",
       "      <td>Norte</td>\n",
       "    </tr>\n",
       "    <tr>\n",
       "      <th>3</th>\n",
       "      <td>004409242488</td>\n",
       "      <td>1007</td>\n",
       "      <td>8</td>\n",
       "      <td>AC</td>\n",
       "      <td>BUJARI</td>\n",
       "      <td>False</td>\n",
       "      <td>Norte</td>\n",
       "    </tr>\n",
       "    <tr>\n",
       "      <th>4</th>\n",
       "      <td>000259632429</td>\n",
       "      <td>1007</td>\n",
       "      <td>80</td>\n",
       "      <td>AC</td>\n",
       "      <td>BUJARI</td>\n",
       "      <td>False</td>\n",
       "      <td>Norte</td>\n",
       "    </tr>\n",
       "  </tbody>\n",
       "</table>\n",
       "</div>"
      ],
      "text/plain": [
       "  nu_titulo_eleitor  id_municipio  votos  uf municipio  capital  \\\n",
       "0      000780342402          1007   1670  AC    BUJARI    False   \n",
       "1      002324422437          1007    946  AC    BUJARI    False   \n",
       "2      000825962445          1007    264  AC    BUJARI    False   \n",
       "3      004409242488          1007      8  AC    BUJARI    False   \n",
       "4      000259632429          1007     80  AC    BUJARI    False   \n",
       "\n",
       "  no_regiao_brasil  \n",
       "0            Norte  \n",
       "1            Norte  \n",
       "2            Norte  \n",
       "3            Norte  \n",
       "4            Norte  "
      ]
     },
     "execution_count": 6,
     "metadata": {},
     "output_type": "execute_result"
    }
   ],
   "source": [
    "df_votos_eleicao.head(5)"
   ]
  },
  {
   "cell_type": "code",
   "execution_count": null,
   "id": "e75c0338",
   "metadata": {},
   "outputs": [],
   "source": [
    "votos = (\n",
    "    df_votos_eleicao.groupby(['nu_titulo_eleitor'])['votos']\n",
    "    .sum()\n",
    "    .reset_index()\n",
    ")"
   ]
  },
  {
   "cell_type": "code",
   "execution_count": 2,
   "id": "f206ecec",
   "metadata": {},
   "outputs": [],
   "source": [
    "df_fichas = pd.read_parquet('/home/filipe/scripts/psdb-projetos/dashStreamlit/datasets/2022/fichas2022.parquet')\n",
    "df_fichas = df_fichas[df_fichas['ds_sit_urna'] == 'Consta da urna']\n",
    "df_fichas = df_fichas[df_fichas['sit_partido'].isin (['Deferido', 'Deferido com recurso'])]\n",
    "df_fichas = df_fichas[df_fichas['sit_cand'].isin (['Deferido', 'Deferido com recurso'])]\n",
    "df_fichas['ds_eleicao'] = df_fichas['ds_eleicao'].replace({\n",
    "    'Eleito por média': 'Eleito',\n",
    "    'Eleito por QP': 'Eleito',\n",
    "    'Suplente' : 'Não eleito',\n",
    "    'Concorrendo' : 'Não eleito',\n",
    "})\n",
    "df_fichas['nm_cargo'] = df_fichas['nm_cargo'].replace({'Deputado Distrital': 'Deputado Estadual'})\n",
    "\n",
    "df_fichas.drop(columns=['id_cand','ds_sit_urna', 'sit_partido', 'sit_cand', 'nu_cpf',\n",
    "                        'st_reeleicao', 'dt_atualizacao', 'nm_partido', 'nu_partido',\n",
    "                        'ds_coligacao', 'nu_urna', 'cd_sit_candidato', 'ds_sit_candidato', \n",
    "                        'ds_totalizacao', 'cd_cargo', 'ds_email', 'nu_cnpj'], inplace=True)"
   ]
  },
  {
   "cell_type": "code",
   "execution_count": 3,
   "id": "a7f1e148",
   "metadata": {},
   "outputs": [
    {
     "data": {
      "text/html": [
       "<div>\n",
       "<style scoped>\n",
       "    .dataframe tbody tr th:only-of-type {\n",
       "        vertical-align: middle;\n",
       "    }\n",
       "\n",
       "    .dataframe tbody tr th {\n",
       "        vertical-align: top;\n",
       "    }\n",
       "\n",
       "    .dataframe thead th {\n",
       "        text-align: right;\n",
       "    }\n",
       "</style>\n",
       "<table border=\"1\" class=\"dataframe\">\n",
       "  <thead>\n",
       "    <tr style=\"text-align: right;\">\n",
       "      <th></th>\n",
       "      <th>uf_cand</th>\n",
       "      <th>nm_municipio</th>\n",
       "      <th>nm_cargo</th>\n",
       "      <th>nm_cand</th>\n",
       "      <th>sg_partido</th>\n",
       "      <th>ds_eleicao</th>\n",
       "      <th>ds_raca</th>\n",
       "      <th>ds_genero</th>\n",
       "      <th>nu_titulo_eleitor</th>\n",
       "      <th>dt_nascimento</th>\n",
       "      <th>ds_composicao</th>\n",
       "      <th>li_foto</th>\n",
       "    </tr>\n",
       "  </thead>\n",
       "  <tbody>\n",
       "    <tr>\n",
       "      <th>0</th>\n",
       "      <td>AC</td>\n",
       "      <td>ACRE</td>\n",
       "      <td>1º Suplente</td>\n",
       "      <td>ELISABETH MEDEIROS DE MORAES</td>\n",
       "      <td>PL</td>\n",
       "      <td>Não eleito</td>\n",
       "      <td>BRANCA</td>\n",
       "      <td>FEM.</td>\n",
       "      <td>000746382402</td>\n",
       "      <td>1955-11-11</td>\n",
       "      <td>REPUBLICANOS / PL / PRTB / PSC / MDB</td>\n",
       "      <td>https://datarepo.psdb.org.br/fotos/10001643707...</td>\n",
       "    </tr>\n",
       "    <tr>\n",
       "      <th>1</th>\n",
       "      <td>AC</td>\n",
       "      <td>ACRE</td>\n",
       "      <td>Vice-governador</td>\n",
       "      <td>JANE DE SOUZA ROSAS</td>\n",
       "      <td>PSOL</td>\n",
       "      <td>Não eleito</td>\n",
       "      <td>BRANCA</td>\n",
       "      <td>FEM.</td>\n",
       "      <td>002460232488</td>\n",
       "      <td>1975-10-29</td>\n",
       "      <td>**</td>\n",
       "      <td>https://datarepo.psdb.org.br/fotos/10001595335...</td>\n",
       "    </tr>\n",
       "  </tbody>\n",
       "</table>\n",
       "</div>"
      ],
      "text/plain": [
       "  uf_cand nm_municipio         nm_cargo                       nm_cand  \\\n",
       "0      AC         ACRE      1º Suplente  ELISABETH MEDEIROS DE MORAES   \n",
       "1      AC         ACRE  Vice-governador           JANE DE SOUZA ROSAS   \n",
       "\n",
       "  sg_partido  ds_eleicao ds_raca ds_genero nu_titulo_eleitor dt_nascimento  \\\n",
       "0         PL  Não eleito  BRANCA      FEM.      000746382402    1955-11-11   \n",
       "1       PSOL  Não eleito  BRANCA      FEM.      002460232488    1975-10-29   \n",
       "\n",
       "                          ds_composicao  \\\n",
       "0  REPUBLICANOS / PL / PRTB / PSC / MDB   \n",
       "1                                    **   \n",
       "\n",
       "                                             li_foto  \n",
       "0  https://datarepo.psdb.org.br/fotos/10001643707...  \n",
       "1  https://datarepo.psdb.org.br/fotos/10001595335...  "
      ]
     },
     "execution_count": 3,
     "metadata": {},
     "output_type": "execute_result"
    }
   ],
   "source": [
    "df_fichas.head(2)"
   ]
  },
  {
   "cell_type": "code",
   "execution_count": 18,
   "id": "24f23640",
   "metadata": {},
   "outputs": [
    {
     "data": {
      "text/plain": [
       "['PL', 'PT', 'UNIÃO', 'PP', 'MDB']"
      ]
     },
     "execution_count": 18,
     "metadata": {},
     "output_type": "execute_result"
    }
   ],
   "source": [
    "top_5_siglas1 = (\n",
    "    df_fichas[\n",
    "        (df_fichas['nm_cargo'] == 'Deputado Federal') & \n",
    "        (df_fichas['ds_eleicao'] == 'Eleito')\n",
    "    ]\n",
    "    .groupby('sg_partido')\n",
    "    .size()\n",
    "    .nlargest(5)\n",
    "    .index\n",
    "    .tolist()\n",
    ")\n",
    "\n",
    "top_5_siglas1"
   ]
  },
  {
   "cell_type": "code",
   "execution_count": null,
   "id": "f5aa20e1",
   "metadata": {},
   "outputs": [],
   "source": [
    "filtro = 'Deputado Federal'  # Example filter, can be changed to 'Deputado Estadual' or others\n",
    "df_eleitos = df_fichas[(df_fichas['nm_cargo'] == filtro) & (df_fichas['ds_eleicao'] == 'Eleito')]\n",
    "eleitos_partido = df_eleitos.groupby(['sg_partido']).size().reset_index(name='Eleitos por partido')\n",
    "top_5_siglas = eleitos_partido.nlargest(5, 'Eleitos por partido')['sg_partido'].tolist()"
   ]
  },
  {
   "cell_type": "code",
   "execution_count": 17,
   "id": "0f987a63",
   "metadata": {},
   "outputs": [
    {
     "data": {
      "text/plain": [
       "['PL', 'PT', 'UNIÃO', 'PP', 'MDB']"
      ]
     },
     "execution_count": 17,
     "metadata": {},
     "output_type": "execute_result"
    }
   ],
   "source": [
    "top_5_siglas = eleitos_partido.nlargest(5, 'Eleitos por partido')['sg_partido'].tolist()\n",
    "top_5_siglas"
   ]
  },
  {
   "cell_type": "code",
   "execution_count": null,
   "id": "89cdb4bf",
   "metadata": {},
   "outputs": [
    {
     "data": {
      "text/html": [
       "<div>\n",
       "<style scoped>\n",
       "    .dataframe tbody tr th:only-of-type {\n",
       "        vertical-align: middle;\n",
       "    }\n",
       "\n",
       "    .dataframe tbody tr th {\n",
       "        vertical-align: top;\n",
       "    }\n",
       "\n",
       "    .dataframe thead th {\n",
       "        text-align: right;\n",
       "    }\n",
       "</style>\n",
       "<table border=\"1\" class=\"dataframe\">\n",
       "  <thead>\n",
       "    <tr style=\"text-align: right;\">\n",
       "      <th></th>\n",
       "      <th>uf_cand</th>\n",
       "      <th>nm_municipio</th>\n",
       "      <th>nm_cargo</th>\n",
       "      <th>nm_cand</th>\n",
       "      <th>sg_partido</th>\n",
       "      <th>ds_eleicao</th>\n",
       "      <th>ds_raca</th>\n",
       "      <th>ds_genero</th>\n",
       "      <th>nu_titulo_eleitor</th>\n",
       "      <th>dt_nascimento</th>\n",
       "      <th>ds_composicao</th>\n",
       "      <th>li_foto</th>\n",
       "    </tr>\n",
       "  </thead>\n",
       "  <tbody>\n",
       "    <tr>\n",
       "      <th>74</th>\n",
       "      <td>AC</td>\n",
       "      <td>ACRE</td>\n",
       "      <td>Deputado Federal</td>\n",
       "      <td>ULYSSES FREITAS PEREIRA DE ARAUJO</td>\n",
       "      <td>UNIÃO</td>\n",
       "      <td>Eleito</td>\n",
       "      <td>PRETA</td>\n",
       "      <td>MASC.</td>\n",
       "      <td>002406702453</td>\n",
       "      <td>1972-10-19</td>\n",
       "      <td>**</td>\n",
       "      <td>https://datarepo.psdb.org.br/fotos/10001612487...</td>\n",
       "    </tr>\n",
       "    <tr>\n",
       "      <th>79</th>\n",
       "      <td>AC</td>\n",
       "      <td>ACRE</td>\n",
       "      <td>Deputado Federal</td>\n",
       "      <td>EDUARDO OVIDIO BORGES DE VELLOSO VIANNA</td>\n",
       "      <td>UNIÃO</td>\n",
       "      <td>Eleito</td>\n",
       "      <td>BRANCA</td>\n",
       "      <td>MASC.</td>\n",
       "      <td>003036512402</td>\n",
       "      <td>1976-07-08</td>\n",
       "      <td>**</td>\n",
       "      <td>https://datarepo.psdb.org.br/fotos/10001612484...</td>\n",
       "    </tr>\n",
       "  </tbody>\n",
       "</table>\n",
       "</div>"
      ],
      "text/plain": [
       "   uf_cand nm_municipio          nm_cargo  \\\n",
       "74      AC         ACRE  Deputado Federal   \n",
       "79      AC         ACRE  Deputado Federal   \n",
       "\n",
       "                                    nm_cand sg_partido ds_eleicao ds_raca  \\\n",
       "74        ULYSSES FREITAS PEREIRA DE ARAUJO      UNIÃO     Eleito   PRETA   \n",
       "79  EDUARDO OVIDIO BORGES DE VELLOSO VIANNA      UNIÃO     Eleito  BRANCA   \n",
       "\n",
       "   ds_genero nu_titulo_eleitor dt_nascimento ds_composicao  \\\n",
       "74     MASC.      002406702453    1972-10-19            **   \n",
       "79     MASC.      003036512402    1976-07-08            **   \n",
       "\n",
       "                                              li_foto  \n",
       "74  https://datarepo.psdb.org.br/fotos/10001612487...  \n",
       "79  https://datarepo.psdb.org.br/fotos/10001612484...  "
      ]
     },
     "execution_count": 8,
     "metadata": {},
     "output_type": "execute_result"
    }
   ],
   "source": [
    "df_eleitos.head(2)"
   ]
  },
  {
   "cell_type": "markdown",
   "id": "8947d531",
   "metadata": {},
   "source": [
    "Fim"
   ]
  },
  {
   "cell_type": "code",
   "execution_count": 8,
   "id": "c2758cba",
   "metadata": {},
   "outputs": [
    {
     "data": {
      "text/html": [
       "<div>\n",
       "<style scoped>\n",
       "    .dataframe tbody tr th:only-of-type {\n",
       "        vertical-align: middle;\n",
       "    }\n",
       "\n",
       "    .dataframe tbody tr th {\n",
       "        vertical-align: top;\n",
       "    }\n",
       "\n",
       "    .dataframe thead th {\n",
       "        text-align: right;\n",
       "    }\n",
       "</style>\n",
       "<table border=\"1\" class=\"dataframe\">\n",
       "  <thead>\n",
       "    <tr style=\"text-align: right;\">\n",
       "      <th></th>\n",
       "      <th>uf_cand</th>\n",
       "      <th>nm_municipio</th>\n",
       "      <th>nm_cargo</th>\n",
       "      <th>nm_cand</th>\n",
       "      <th>sg_partido</th>\n",
       "      <th>ds_eleicao</th>\n",
       "      <th>ds_raca</th>\n",
       "      <th>ds_genero</th>\n",
       "      <th>nu_titulo_eleitor</th>\n",
       "      <th>dt_nascimento</th>\n",
       "      <th>ds_composicao</th>\n",
       "      <th>li_foto</th>\n",
       "    </tr>\n",
       "  </thead>\n",
       "  <tbody>\n",
       "    <tr>\n",
       "      <th>0</th>\n",
       "      <td>AC</td>\n",
       "      <td>ACRE</td>\n",
       "      <td>1º Suplente</td>\n",
       "      <td>ELISABETH MEDEIROS DE MORAES</td>\n",
       "      <td>PL</td>\n",
       "      <td>Não eleito</td>\n",
       "      <td>BRANCA</td>\n",
       "      <td>FEM.</td>\n",
       "      <td>000746382402</td>\n",
       "      <td>1955-11-11</td>\n",
       "      <td>REPUBLICANOS / PL / PRTB / PSC / MDB</td>\n",
       "      <td>https://datarepo.psdb.org.br/fotos/10001643707...</td>\n",
       "    </tr>\n",
       "    <tr>\n",
       "      <th>1</th>\n",
       "      <td>AC</td>\n",
       "      <td>ACRE</td>\n",
       "      <td>Vice-governador</td>\n",
       "      <td>JANE DE SOUZA ROSAS</td>\n",
       "      <td>PSOL</td>\n",
       "      <td>Não eleito</td>\n",
       "      <td>BRANCA</td>\n",
       "      <td>FEM.</td>\n",
       "      <td>002460232488</td>\n",
       "      <td>1975-10-29</td>\n",
       "      <td>**</td>\n",
       "      <td>https://datarepo.psdb.org.br/fotos/10001595335...</td>\n",
       "    </tr>\n",
       "  </tbody>\n",
       "</table>\n",
       "</div>"
      ],
      "text/plain": [
       "  uf_cand nm_municipio         nm_cargo                       nm_cand  \\\n",
       "0      AC         ACRE      1º Suplente  ELISABETH MEDEIROS DE MORAES   \n",
       "1      AC         ACRE  Vice-governador           JANE DE SOUZA ROSAS   \n",
       "\n",
       "  sg_partido  ds_eleicao ds_raca ds_genero nu_titulo_eleitor dt_nascimento  \\\n",
       "0         PL  Não eleito  BRANCA      FEM.      000746382402    1955-11-11   \n",
       "1       PSOL  Não eleito  BRANCA      FEM.      002460232488    1975-10-29   \n",
       "\n",
       "                          ds_composicao  \\\n",
       "0  REPUBLICANOS / PL / PRTB / PSC / MDB   \n",
       "1                                    **   \n",
       "\n",
       "                                             li_foto  \n",
       "0  https://datarepo.psdb.org.br/fotos/10001643707...  \n",
       "1  https://datarepo.psdb.org.br/fotos/10001595335...  "
      ]
     },
     "execution_count": 8,
     "metadata": {},
     "output_type": "execute_result"
    }
   ],
   "source": [
    "df_fichas.head(2)"
   ]
  },
  {
   "cell_type": "code",
   "execution_count": 9,
   "id": "e42c1049",
   "metadata": {},
   "outputs": [],
   "source": [
    "df_fichas_com_votos = pd.merge(\n",
    "    df_fichas,\n",
    "    df_votos_eleicao,    \n",
    "    left_on='nu_titulo_eleitor',\n",
    "    right_on='nu_titulo_eleitor',\n",
    "    how='right')"
   ]
  },
  {
   "cell_type": "code",
   "execution_count": 10,
   "id": "56cb6b52",
   "metadata": {},
   "outputs": [
    {
     "data": {
      "text/plain": [
       "(8367313, 8367313)"
      ]
     },
     "execution_count": 10,
     "metadata": {},
     "output_type": "execute_result"
    }
   ],
   "source": [
    "df_votos_eleicao.shape[0], df_fichas_com_votos.shape[0]"
   ]
  },
  {
   "cell_type": "code",
   "execution_count": 11,
   "id": "0fb75e26",
   "metadata": {},
   "outputs": [
    {
     "data": {
      "text/html": [
       "<div>\n",
       "<style scoped>\n",
       "    .dataframe tbody tr th:only-of-type {\n",
       "        vertical-align: middle;\n",
       "    }\n",
       "\n",
       "    .dataframe tbody tr th {\n",
       "        vertical-align: top;\n",
       "    }\n",
       "\n",
       "    .dataframe thead th {\n",
       "        text-align: right;\n",
       "    }\n",
       "</style>\n",
       "<table border=\"1\" class=\"dataframe\">\n",
       "  <thead>\n",
       "    <tr style=\"text-align: right;\">\n",
       "      <th></th>\n",
       "      <th>nu_titulo_eleitor</th>\n",
       "      <th>id_municipio</th>\n",
       "      <th>votos</th>\n",
       "      <th>uf</th>\n",
       "      <th>municipio</th>\n",
       "      <th>capital</th>\n",
       "      <th>no_regiao_brasil</th>\n",
       "    </tr>\n",
       "  </thead>\n",
       "  <tbody>\n",
       "    <tr>\n",
       "      <th>0</th>\n",
       "      <td>000780342402</td>\n",
       "      <td>1007</td>\n",
       "      <td>1670</td>\n",
       "      <td>AC</td>\n",
       "      <td>BUJARI</td>\n",
       "      <td>False</td>\n",
       "      <td>Norte</td>\n",
       "    </tr>\n",
       "    <tr>\n",
       "      <th>1</th>\n",
       "      <td>002324422437</td>\n",
       "      <td>1007</td>\n",
       "      <td>946</td>\n",
       "      <td>AC</td>\n",
       "      <td>BUJARI</td>\n",
       "      <td>False</td>\n",
       "      <td>Norte</td>\n",
       "    </tr>\n",
       "  </tbody>\n",
       "</table>\n",
       "</div>"
      ],
      "text/plain": [
       "  nu_titulo_eleitor  id_municipio  votos  uf municipio  capital  \\\n",
       "0      000780342402          1007   1670  AC    BUJARI    False   \n",
       "1      002324422437          1007    946  AC    BUJARI    False   \n",
       "\n",
       "  no_regiao_brasil  \n",
       "0            Norte  \n",
       "1            Norte  "
      ]
     },
     "execution_count": 11,
     "metadata": {},
     "output_type": "execute_result"
    }
   ],
   "source": [
    "df_votos_eleicao.head(2)"
   ]
  },
  {
   "cell_type": "code",
   "execution_count": 12,
   "id": "9092d10b",
   "metadata": {},
   "outputs": [
    {
     "data": {
      "text/html": [
       "<div>\n",
       "<style scoped>\n",
       "    .dataframe tbody tr th:only-of-type {\n",
       "        vertical-align: middle;\n",
       "    }\n",
       "\n",
       "    .dataframe tbody tr th {\n",
       "        vertical-align: top;\n",
       "    }\n",
       "\n",
       "    .dataframe thead th {\n",
       "        text-align: right;\n",
       "    }\n",
       "</style>\n",
       "<table border=\"1\" class=\"dataframe\">\n",
       "  <thead>\n",
       "    <tr style=\"text-align: right;\">\n",
       "      <th></th>\n",
       "      <th>uf_cand</th>\n",
       "      <th>nm_municipio</th>\n",
       "      <th>nm_cargo</th>\n",
       "      <th>nm_cand</th>\n",
       "      <th>sg_partido</th>\n",
       "      <th>ds_eleicao</th>\n",
       "      <th>ds_raca</th>\n",
       "      <th>ds_genero</th>\n",
       "      <th>nu_titulo_eleitor</th>\n",
       "      <th>dt_nascimento</th>\n",
       "      <th>ds_composicao</th>\n",
       "      <th>li_foto</th>\n",
       "      <th>id_municipio</th>\n",
       "      <th>votos</th>\n",
       "      <th>uf</th>\n",
       "      <th>municipio</th>\n",
       "      <th>capital</th>\n",
       "      <th>no_regiao_brasil</th>\n",
       "    </tr>\n",
       "  </thead>\n",
       "  <tbody>\n",
       "    <tr>\n",
       "      <th>0</th>\n",
       "      <td>AC</td>\n",
       "      <td>ACRE</td>\n",
       "      <td>Governador</td>\n",
       "      <td>JORGE NEY VIANA MACEDO NEVES</td>\n",
       "      <td>PT</td>\n",
       "      <td>Não eleito</td>\n",
       "      <td>PARDA</td>\n",
       "      <td>MASC.</td>\n",
       "      <td>000780342402</td>\n",
       "      <td>1959-09-20</td>\n",
       "      <td>**</td>\n",
       "      <td>https://datarepo.psdb.org.br/fotos/10001616169...</td>\n",
       "      <td>1007</td>\n",
       "      <td>1670</td>\n",
       "      <td>AC</td>\n",
       "      <td>BUJARI</td>\n",
       "      <td>False</td>\n",
       "      <td>Norte</td>\n",
       "    </tr>\n",
       "    <tr>\n",
       "      <th>1</th>\n",
       "      <td>AC</td>\n",
       "      <td>ACRE</td>\n",
       "      <td>Governador</td>\n",
       "      <td>CYLMARA FERNANDES DA ROCHA GRIPP</td>\n",
       "      <td>MDB</td>\n",
       "      <td>Não eleito</td>\n",
       "      <td>PARDA</td>\n",
       "      <td>FEM.</td>\n",
       "      <td>002324422437</td>\n",
       "      <td>1973-09-04</td>\n",
       "      <td>REPUBLICANOS / MDB / PRTB / PL</td>\n",
       "      <td>https://datarepo.psdb.org.br/fotos/10001639519...</td>\n",
       "      <td>1007</td>\n",
       "      <td>946</td>\n",
       "      <td>AC</td>\n",
       "      <td>BUJARI</td>\n",
       "      <td>False</td>\n",
       "      <td>Norte</td>\n",
       "    </tr>\n",
       "  </tbody>\n",
       "</table>\n",
       "</div>"
      ],
      "text/plain": [
       "  uf_cand nm_municipio    nm_cargo                           nm_cand  \\\n",
       "0      AC         ACRE  Governador      JORGE NEY VIANA MACEDO NEVES   \n",
       "1      AC         ACRE  Governador  CYLMARA FERNANDES DA ROCHA GRIPP   \n",
       "\n",
       "  sg_partido  ds_eleicao ds_raca ds_genero nu_titulo_eleitor dt_nascimento  \\\n",
       "0         PT  Não eleito   PARDA     MASC.      000780342402    1959-09-20   \n",
       "1        MDB  Não eleito   PARDA      FEM.      002324422437    1973-09-04   \n",
       "\n",
       "                    ds_composicao  \\\n",
       "0                              **   \n",
       "1  REPUBLICANOS / MDB / PRTB / PL   \n",
       "\n",
       "                                             li_foto  id_municipio  votos  uf  \\\n",
       "0  https://datarepo.psdb.org.br/fotos/10001616169...          1007   1670  AC   \n",
       "1  https://datarepo.psdb.org.br/fotos/10001639519...          1007    946  AC   \n",
       "\n",
       "  municipio  capital no_regiao_brasil  \n",
       "0    BUJARI    False            Norte  \n",
       "1    BUJARI    False            Norte  "
      ]
     },
     "execution_count": 12,
     "metadata": {},
     "output_type": "execute_result"
    }
   ],
   "source": [
    "df_fichas_com_votos.head(2) "
   ]
  },
  {
   "cell_type": "code",
   "execution_count": 13,
   "id": "7fa7ebc9",
   "metadata": {},
   "outputs": [
    {
     "data": {
      "text/plain": [
       "Index(['uf_cand', 'nm_municipio', 'nm_cargo', 'nm_cand', 'sg_partido',\n",
       "       'ds_eleicao', 'ds_raca', 'ds_genero', 'nu_titulo_eleitor',\n",
       "       'dt_nascimento', 'ds_composicao', 'li_foto', 'id_municipio', 'votos',\n",
       "       'uf', 'municipio', 'capital', 'no_regiao_brasil'],\n",
       "      dtype='object')"
      ]
     },
     "execution_count": 13,
     "metadata": {},
     "output_type": "execute_result"
    }
   ],
   "source": [
    "df_fichas_com_votos.columns"
   ]
  },
  {
   "cell_type": "code",
   "execution_count": 14,
   "id": "72f42f5d",
   "metadata": {},
   "outputs": [],
   "source": [
    "df_fichas_com_votos_estado = (\n",
    "    df_fichas_com_votos.groupby(['uf_cand', 'nm_municipio', 'nm_cargo', 'nm_cand', 'sg_partido',\n",
    "       'ds_eleicao', 'ds_raca', 'ds_genero', 'nu_titulo_eleitor',\n",
    "       'dt_nascimento', 'ds_composicao', 'li_foto'])['votos']\n",
    "    .sum()\n",
    "    .reset_index()\n",
    ")"
   ]
  },
  {
   "cell_type": "code",
   "execution_count": 15,
   "id": "9c34b579",
   "metadata": {},
   "outputs": [
    {
     "data": {
      "text/html": [
       "<div>\n",
       "<style scoped>\n",
       "    .dataframe tbody tr th:only-of-type {\n",
       "        vertical-align: middle;\n",
       "    }\n",
       "\n",
       "    .dataframe tbody tr th {\n",
       "        vertical-align: top;\n",
       "    }\n",
       "\n",
       "    .dataframe thead th {\n",
       "        text-align: right;\n",
       "    }\n",
       "</style>\n",
       "<table border=\"1\" class=\"dataframe\">\n",
       "  <thead>\n",
       "    <tr style=\"text-align: right;\">\n",
       "      <th></th>\n",
       "      <th>uf_cand</th>\n",
       "      <th>nm_municipio</th>\n",
       "      <th>nm_cargo</th>\n",
       "      <th>nm_cand</th>\n",
       "      <th>sg_partido</th>\n",
       "      <th>ds_eleicao</th>\n",
       "      <th>ds_raca</th>\n",
       "      <th>ds_genero</th>\n",
       "      <th>nu_titulo_eleitor</th>\n",
       "      <th>dt_nascimento</th>\n",
       "      <th>ds_composicao</th>\n",
       "      <th>li_foto</th>\n",
       "      <th>votos</th>\n",
       "    </tr>\n",
       "  </thead>\n",
       "  <tbody>\n",
       "    <tr>\n",
       "      <th>0</th>\n",
       "      <td>AC</td>\n",
       "      <td>ACRE</td>\n",
       "      <td>Deputado Estadual</td>\n",
       "      <td>ADALICIO ALVES FIGUEIREDO JUNIOR</td>\n",
       "      <td>PSB</td>\n",
       "      <td>Não eleito</td>\n",
       "      <td>PRETA</td>\n",
       "      <td>MASC.</td>\n",
       "      <td>006121262380</td>\n",
       "      <td>1973-08-26</td>\n",
       "      <td>**</td>\n",
       "      <td>https://datarepo.psdb.org.br/fotos/10001643318...</td>\n",
       "      <td>220</td>\n",
       "    </tr>\n",
       "    <tr>\n",
       "      <th>1</th>\n",
       "      <td>AC</td>\n",
       "      <td>ACRE</td>\n",
       "      <td>Deputado Estadual</td>\n",
       "      <td>ADEKSON DE PINHO LIMA</td>\n",
       "      <td>PODE</td>\n",
       "      <td>Não eleito</td>\n",
       "      <td>PARDA</td>\n",
       "      <td>MASC.</td>\n",
       "      <td>002064072437</td>\n",
       "      <td>1973-12-03</td>\n",
       "      <td>**</td>\n",
       "      <td>https://datarepo.psdb.org.br/fotos/10001650027...</td>\n",
       "      <td>77</td>\n",
       "    </tr>\n",
       "    <tr>\n",
       "      <th>2</th>\n",
       "      <td>AC</td>\n",
       "      <td>ACRE</td>\n",
       "      <td>Deputado Estadual</td>\n",
       "      <td>ADENILSON DUTRA DE SOUZA</td>\n",
       "      <td>CIDADANIA</td>\n",
       "      <td>Não eleito</td>\n",
       "      <td>PARDA</td>\n",
       "      <td>MASC.</td>\n",
       "      <td>005465192429</td>\n",
       "      <td>1986-12-12</td>\n",
       "      <td>**</td>\n",
       "      <td>https://datarepo.psdb.org.br/fotos/10001723797...</td>\n",
       "      <td>83</td>\n",
       "    </tr>\n",
       "    <tr>\n",
       "      <th>3</th>\n",
       "      <td>AC</td>\n",
       "      <td>ACRE</td>\n",
       "      <td>Deputado Estadual</td>\n",
       "      <td>ADERLANDIO MEDEIROS DA SILVA</td>\n",
       "      <td>PSOL</td>\n",
       "      <td>Não eleito</td>\n",
       "      <td>PRETA</td>\n",
       "      <td>MASC.</td>\n",
       "      <td>003469152488</td>\n",
       "      <td>1979-02-28</td>\n",
       "      <td>**</td>\n",
       "      <td>https://datarepo.psdb.org.br/fotos/10001595349...</td>\n",
       "      <td>623</td>\n",
       "    </tr>\n",
       "    <tr>\n",
       "      <th>4</th>\n",
       "      <td>AC</td>\n",
       "      <td>ACRE</td>\n",
       "      <td>Deputado Estadual</td>\n",
       "      <td>ADERLÂNDIO NASCIMENTO DE FRANÇA</td>\n",
       "      <td>PDT</td>\n",
       "      <td>Não eleito</td>\n",
       "      <td>PARDA</td>\n",
       "      <td>MASC.</td>\n",
       "      <td>003494752461</td>\n",
       "      <td>1978-12-17</td>\n",
       "      <td>**</td>\n",
       "      <td>https://datarepo.psdb.org.br/fotos/10001622765...</td>\n",
       "      <td>3555</td>\n",
       "    </tr>\n",
       "  </tbody>\n",
       "</table>\n",
       "</div>"
      ],
      "text/plain": [
       "  uf_cand nm_municipio           nm_cargo                           nm_cand  \\\n",
       "0      AC         ACRE  Deputado Estadual  ADALICIO ALVES FIGUEIREDO JUNIOR   \n",
       "1      AC         ACRE  Deputado Estadual             ADEKSON DE PINHO LIMA   \n",
       "2      AC         ACRE  Deputado Estadual          ADENILSON DUTRA DE SOUZA   \n",
       "3      AC         ACRE  Deputado Estadual      ADERLANDIO MEDEIROS DA SILVA   \n",
       "4      AC         ACRE  Deputado Estadual   ADERLÂNDIO NASCIMENTO DE FRANÇA   \n",
       "\n",
       "  sg_partido  ds_eleicao ds_raca ds_genero nu_titulo_eleitor dt_nascimento  \\\n",
       "0        PSB  Não eleito   PRETA     MASC.      006121262380    1973-08-26   \n",
       "1       PODE  Não eleito   PARDA     MASC.      002064072437    1973-12-03   \n",
       "2  CIDADANIA  Não eleito   PARDA     MASC.      005465192429    1986-12-12   \n",
       "3       PSOL  Não eleito   PRETA     MASC.      003469152488    1979-02-28   \n",
       "4        PDT  Não eleito   PARDA     MASC.      003494752461    1978-12-17   \n",
       "\n",
       "  ds_composicao                                            li_foto  votos  \n",
       "0            **  https://datarepo.psdb.org.br/fotos/10001643318...    220  \n",
       "1            **  https://datarepo.psdb.org.br/fotos/10001650027...     77  \n",
       "2            **  https://datarepo.psdb.org.br/fotos/10001723797...     83  \n",
       "3            **  https://datarepo.psdb.org.br/fotos/10001595349...    623  \n",
       "4            **  https://datarepo.psdb.org.br/fotos/10001622765...   3555  "
      ]
     },
     "execution_count": 15,
     "metadata": {},
     "output_type": "execute_result"
    }
   ],
   "source": [
    "df_fichas_com_votos_estado.head(5)"
   ]
  },
  {
   "cell_type": "code",
   "execution_count": 16,
   "id": "ae014989",
   "metadata": {},
   "outputs": [
    {
     "data": {
      "text/plain": [
       "25460"
      ]
     },
     "execution_count": 16,
     "metadata": {},
     "output_type": "execute_result"
    }
   ],
   "source": [
    "df_fichas_com_votos_estado.shape[0]"
   ]
  },
  {
   "cell_type": "code",
   "execution_count": null,
   "id": "0c5f1ad9",
   "metadata": {},
   "outputs": [],
   "source": [
    "#df_fichas_com_votos_estado.to_excel('/home/filipe/scripts/psdb-projetos/dashStreamlit/datasets/2022/teste_votos 2.xlsx', index=False)"
   ]
  },
  {
   "cell_type": "code",
   "execution_count": null,
   "id": "2b82b065",
   "metadata": {},
   "outputs": [],
   "source": [
    "\n",
    "#df_fichas.loc[df_fichas['ds_sit_candidato'] != 'Deferido']\n",
    "#df_federal = df_federal.query(\"sg_uf not in ['ZZ', 'VT']\")"
   ]
  }
 ],
 "metadata": {
  "kernelspec": {
   "display_name": ".venv",
   "language": "python",
   "name": "python3"
  },
  "language_info": {
   "codemirror_mode": {
    "name": "ipython",
    "version": 3
   },
   "file_extension": ".py",
   "mimetype": "text/x-python",
   "name": "python",
   "nbconvert_exporter": "python",
   "pygments_lexer": "ipython3",
   "version": "3.12.3"
  }
 },
 "nbformat": 4,
 "nbformat_minor": 5
}
